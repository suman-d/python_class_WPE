{
 "cells": [
  {
   "cell_type": "code",
   "execution_count": 79,
   "metadata": {},
   "outputs": [],
   "source": [
    "def myrange3(*args):\n",
    "    \n",
    "    if len(args) == 1:\n",
    "        start = 0 \n",
    "        stop = args[0]\n",
    "        step = 1\n",
    "    \n",
    "    elif len(args) == 2:\n",
    "        start, stop = args\n",
    "        if stop is None:\n",
    "            stop = start\n",
    "            start = 0\n",
    "        step = 1\n",
    "    \n",
    "    elif len(args) == 3:\n",
    "        start, stop, step = args\n",
    "        if stop is None:\n",
    "            stop = start\n",
    "            start = 0\n",
    "        if step is None:\n",
    "            step = 1\n",
    "    \n",
    "    elif len(args) == 0 or len(args) > 3:\n",
    "        print(\"Invalid Arguments\")\n",
    "        sys.exit(0)\n",
    "    \n",
    "    while True:\n",
    "        \n",
    "        if start > stop-1:\n",
    "            break\n",
    "            \n",
    "        yield start\n",
    "        start += step \n"
   ]
  },
  {
   "cell_type": "code",
   "execution_count": 80,
   "metadata": {},
   "outputs": [],
   "source": [
    "def myrange2(*args):\n",
    "    \n",
    "    if len(args) == 1:\n",
    "        start = 0 \n",
    "        stop = args[0]\n",
    "        step = 1\n",
    "    \n",
    "    elif len(args) == 2:\n",
    "        start, stop = args\n",
    "        if stop is None:\n",
    "            stop = start\n",
    "            start = 0\n",
    "        step = 1\n",
    "    \n",
    "    elif len(args) == 3:\n",
    "        start, stop, step = args\n",
    "        if stop is None:\n",
    "            stop = start\n",
    "            start = 0\n",
    "        if step is None:\n",
    "            step = 1\n",
    "    \n",
    "    elif len(args) == 0 or len(args) > 3:\n",
    "        print(\"Invalid Arguments\")\n",
    "        sys.exit(0)\n",
    "    \n",
    "    result = []\n",
    "    while True:\n",
    "        \n",
    "        if start > stop-1:\n",
    "            break\n",
    "            \n",
    "        result.append(start)\n",
    "        start += step \n",
    "    \n",
    "    return result\n"
   ]
  },
  {
   "cell_type": "code",
   "execution_count": 73,
   "metadata": {},
   "outputs": [],
   "source": [
    "a = myrange2(10, 20, None)"
   ]
  },
  {
   "cell_type": "code",
   "execution_count": 75,
   "metadata": {},
   "outputs": [
    {
     "data": {
      "text/plain": [
       "list"
      ]
     },
     "execution_count": 75,
     "metadata": {},
     "output_type": "execute_result"
    }
   ],
   "source": [
    "type(a)"
   ]
  },
  {
   "cell_type": "code",
   "execution_count": 76,
   "metadata": {},
   "outputs": [
    {
     "name": "stdout",
     "output_type": "stream",
     "text": [
      "254 ns ± 3.82 ns per loop (mean ± std. dev. of 7 runs, 1000000 loops each)\n"
     ]
    }
   ],
   "source": [
    "%timeit range(1000)"
   ]
  },
  {
   "cell_type": "code",
   "execution_count": 77,
   "metadata": {},
   "outputs": [
    {
     "name": "stdout",
     "output_type": "stream",
     "text": [
      "152 µs ± 2.88 µs per loop (mean ± std. dev. of 7 runs, 10000 loops each)\n"
     ]
    }
   ],
   "source": [
    "%timeit myrange2(1000)"
   ]
  },
  {
   "cell_type": "code",
   "execution_count": 81,
   "metadata": {},
   "outputs": [
    {
     "name": "stdout",
     "output_type": "stream",
     "text": [
      "236 ns ± 2.63 ns per loop (mean ± std. dev. of 7 runs, 1000000 loops each)\n"
     ]
    }
   ],
   "source": [
    "%timeit myrange3(1000)"
   ]
  },
  {
   "cell_type": "code",
   "execution_count": 85,
   "metadata": {},
   "outputs": [],
   "source": [
    "# @pytest.mark.parametrize('first, second, third, output', [\n",
    "#     (10, None, None, list(range(10))),\n",
    "#     (10, 20, None, list(range(10,20))),\n",
    "#     (20, 10, None, []),\n",
    "#     (10, 20, 2, list(range(10,20,2))),\n",
    "#     (10, 20, 3, list(range(10,20,3)))"
   ]
  },
  {
   "cell_type": "code",
   "execution_count": 87,
   "metadata": {},
   "outputs": [],
   "source": [
    "def myrange2(start, stop=None, step=1):\n",
    "\n",
    "    result = []\n",
    "    while True:\n",
    "        \n",
    "        if stop is None:\n",
    "            stop = start\n",
    "            start = 0\n",
    "        if step is None:\n",
    "            step = 1\n",
    "        if start > stop-1:\n",
    "            break\n",
    "            \n",
    "        result.append(start)\n",
    "        start += step \n",
    "    \n",
    "    return result"
   ]
  },
  {
   "cell_type": "code",
   "execution_count": 96,
   "metadata": {},
   "outputs": [],
   "source": [
    "a = myrange2(10, 20, 3)"
   ]
  },
  {
   "cell_type": "code",
   "execution_count": 97,
   "metadata": {},
   "outputs": [
    {
     "data": {
      "text/plain": [
       "[10, 13, 16, 19]"
      ]
     },
     "execution_count": 97,
     "metadata": {},
     "output_type": "execute_result"
    }
   ],
   "source": [
    "list(a)"
   ]
  },
  {
   "cell_type": "code",
   "execution_count": 98,
   "metadata": {},
   "outputs": [],
   "source": [
    "def myrange3(start, stop=None, step=1):\n",
    "    \n",
    "    \n",
    "    while True:\n",
    "        \n",
    "        if stop is None:\n",
    "            stop = start\n",
    "            start = 0\n",
    "        if step is None:\n",
    "            step = 1\n",
    "        if start > stop-1:\n",
    "            break\n",
    "            \n",
    "        yield start\n",
    "        start += step "
   ]
  },
  {
   "cell_type": "code",
   "execution_count": 103,
   "metadata": {},
   "outputs": [],
   "source": [
    "a = myrange2(20, 10, None)"
   ]
  },
  {
   "cell_type": "code",
   "execution_count": 104,
   "metadata": {},
   "outputs": [
    {
     "data": {
      "text/plain": [
       "[]"
      ]
     },
     "execution_count": 104,
     "metadata": {},
     "output_type": "execute_result"
    }
   ],
   "source": [
    "list(a)"
   ]
  },
  {
   "cell_type": "code",
   "execution_count": null,
   "metadata": {},
   "outputs": [],
   "source": []
  }
 ],
 "metadata": {
  "kernelspec": {
   "display_name": "Python 3",
   "language": "python",
   "name": "python3"
  },
  "language_info": {
   "codemirror_mode": {
    "name": "ipython",
    "version": 3
   },
   "file_extension": ".py",
   "mimetype": "text/x-python",
   "name": "python",
   "nbconvert_exporter": "python",
   "pygments_lexer": "ipython3",
   "version": "3.7.0"
  }
 },
 "nbformat": 4,
 "nbformat_minor": 2
}
