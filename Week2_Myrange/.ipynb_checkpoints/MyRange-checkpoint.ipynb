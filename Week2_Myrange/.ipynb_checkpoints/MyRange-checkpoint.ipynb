{
 "cells": [
  {
   "cell_type": "code",
   "execution_count": 65,
   "metadata": {},
   "outputs": [],
   "source": [
    "def myrange3(*args):\n",
    "    \n",
    "    if len(args) == 1:\n",
    "        start = 0 \n",
    "        stop = args[0]\n",
    "        step = 1\n",
    "    \n",
    "    elif len(args) == 2:\n",
    "        start, stop = args\n",
    "        if stop is None:\n",
    "            stop = start\n",
    "            start = 0\n",
    "        step = 1\n",
    "    \n",
    "    elif len(args) == 3:\n",
    "        start, stop, step = args\n",
    "        if stop is None:\n",
    "            stop = start\n",
    "            start = 0\n",
    "        if step is None:\n",
    "            step = 1\n",
    "    \n",
    "    elif len(args) == 0 or len(args) > 3:\n",
    "        print(\"Invalid Arguments\")\n",
    "        sys.exit(0)\n",
    "    \n",
    "    while True:\n",
    "        \n",
    "        if start > stop-1:\n",
    "            break\n",
    "            \n",
    "        yield start\n",
    "        start += step \n"
   ]
  },
  {
   "cell_type": "code",
   "execution_count": 68,
   "metadata": {},
   "outputs": [],
   "source": [
    "def myrange2(*args):\n",
    "    \n",
    "    if len(args) == 1:\n",
    "        start = 0 \n",
    "        stop = args[0]\n",
    "        step = 1\n",
    "    \n",
    "    elif len(args) == 2:\n",
    "        start, stop = args\n",
    "        if stop is None:\n",
    "            stop = start\n",
    "            start = 0\n",
    "        step = 1\n",
    "    \n",
    "    elif len(args) == 3:\n",
    "        start, stop, step = args\n",
    "        if stop is None:\n",
    "            stop = start\n",
    "            start = 0\n",
    "        if step is None:\n",
    "            step = 1\n",
    "    \n",
    "    elif len(args) == 0 or len(args) > 3:\n",
    "        print(\"Invalid Arguments\")\n",
    "        sys.exit(0)\n",
    "    \n",
    "    result = []\n",
    "    while True:\n",
    "        \n",
    "        if start > stop-1:\n",
    "            break\n",
    "            \n",
    "        result.append(start)\n",
    "        start += step \n",
    "    \n",
    "    return result\n"
   ]
  },
  {
   "cell_type": "code",
   "execution_count": 73,
   "metadata": {},
   "outputs": [],
   "source": [
    "a = myrange2(10, 20, None)"
   ]
  },
  {
   "cell_type": "code",
   "execution_count": 75,
   "metadata": {},
   "outputs": [
    {
     "data": {
      "text/plain": [
       "list"
      ]
     },
     "execution_count": 75,
     "metadata": {},
     "output_type": "execute_result"
    }
   ],
   "source": [
    "type(a)"
   ]
  },
  {
   "cell_type": "code",
   "execution_count": null,
   "metadata": {},
   "outputs": [],
   "source": []
  }
 ],
 "metadata": {
  "kernelspec": {
   "display_name": "Python 3",
   "language": "python",
   "name": "python3"
  },
  "language_info": {
   "codemirror_mode": {
    "name": "ipython",
    "version": 3
   },
   "file_extension": ".py",
   "mimetype": "text/x-python",
   "name": "python",
   "nbconvert_exporter": "python",
   "pygments_lexer": "ipython3",
   "version": "3.7.0"
  }
 },
 "nbformat": 4,
 "nbformat_minor": 2
}
