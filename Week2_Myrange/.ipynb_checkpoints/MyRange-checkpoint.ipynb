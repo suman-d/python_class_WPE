{
 "cells": [
  {
   "cell_type": "code",
   "execution_count": 65,
   "metadata": {},
   "outputs": [],
   "source": [
    "def myrange3(*args):\n",
    "    \n",
    "    if len(args) == 1:\n",
    "        start = 0 \n",
    "        stop = args[0]\n",
    "        step = 1\n",
    "    \n",
    "    elif len(args) == 2:\n",
    "        start, stop = args\n",
    "        if stop is None:\n",
    "            stop = start\n",
    "            start = 0\n",
    "        step = 1\n",
    "    \n",
    "    elif len(args) == 3:\n",
    "        start, stop, step = args\n",
    "        if stop is None:\n",
    "            stop = start\n",
    "            start = 0\n",
    "        if step is None:\n",
    "            step = 1\n",
    "    \n",
    "    elif len(args) == 0 or len(args) > 3:\n",
    "        print(\"Invalid Arguments\")\n",
    "        sys.exit(0)\n",
    "    \n",
    "    while True:\n",
    "        \n",
    "        if start > stop-1:\n",
    "            break\n",
    "            \n",
    "        yield start\n",
    "        start += step \n"
   ]
  },
  {
   "cell_type": "code",
   "execution_count": 66,
   "metadata": {},
   "outputs": [],
   "source": [
    "def myrange2(*args):\n",
    "    \n",
    "    if len(args) == 1:\n",
    "        start = 0 \n",
    "        stop = args[0]\n",
    "        step = 1\n",
    "    \n",
    "    elif len(args) == 2:\n",
    "        start, stop = args\n",
    "        if stop is None:\n",
    "            stop = start\n",
    "            start = 0\n",
    "        step = 1\n",
    "    \n",
    "    elif len(args) == 3:\n",
    "        start, stop, step = args\n",
    "        if stop is None:\n",
    "            stop = start\n",
    "            start = 0\n",
    "        if step is None:\n",
    "            step = 1\n",
    "    \n",
    "    elif len(args) == 0 or len(args) > 3:\n",
    "        print(\"Invalid Arguments\")\n",
    "        sys.exit(0)\n",
    "    \n",
    "    while True:\n",
    "        \n",
    "        if start > stop-1:\n",
    "            break\n",
    "            \n",
    "        yield start\n",
    "        start += step \n"
   ]
  },
  {
   "cell_type": "code",
   "execution_count": 67,
   "metadata": {},
   "outputs": [
    {
     "data": {
      "text/plain": [
       "[0, 1, 2, 3, 4, 5, 6, 7, 8, 9]"
      ]
     },
     "execution_count": 67,
     "metadata": {},
     "output_type": "execute_result"
    }
   ],
   "source": [
    "list(a)"
   ]
  },
  {
   "cell_type": "code",
   "execution_count": 49,
   "metadata": {},
   "outputs": [
    {
     "data": {
      "text/plain": [
       "[]"
      ]
     },
     "execution_count": 49,
     "metadata": {},
     "output_type": "execute_result"
    }
   ],
   "source": [
    "list(range(20, 10))"
   ]
  },
  {
   "cell_type": "code",
   "execution_count": null,
   "metadata": {},
   "outputs": [],
   "source": []
  }
 ],
 "metadata": {
  "kernelspec": {
   "display_name": "Python 3",
   "language": "python",
   "name": "python3"
  },
  "language_info": {
   "codemirror_mode": {
    "name": "ipython",
    "version": 3
   },
   "file_extension": ".py",
   "mimetype": "text/x-python",
   "name": "python",
   "nbconvert_exporter": "python",
   "pygments_lexer": "ipython3",
   "version": "3.7.0"
  }
 },
 "nbformat": 4,
 "nbformat_minor": 2
}
