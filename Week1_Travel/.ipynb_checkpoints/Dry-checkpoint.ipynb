{
 "cells": [
  {
   "cell_type": "raw",
   "metadata": {},
   "source": [
    "'''\n",
    "\n",
    "This week, we'll explore the built-in data types, seeing how we can store information in them, and then extract information from them, without having to create a new class.\n",
    "\n",
    "I want you to create two different functions, collect_places and display_places.  Neither function takes an argument; instead, they will both work with a global variable, \"visits\".  (I'm purposely keeping quiet about my preferred type for \"visits\", so that you can think about it a bit.)\n",
    "\n",
    "The idea is that we want to organize a list of places to which someone has traveled. That is: We'll ask the user to enter, one at a time, a city and country to which they have traveled. The city and country should be separated by a comma. If there is no comma, then the user is given an error message, and given another chance. If the user enters a city-country combination, then this information is recorded, and then they're asked again.  Indeed, the user is asked again and again for a city-state combination, until they provide an empty response. When that happens, the questioning phase ends, and the reporting phase begins.\n",
    "\n",
    "In the report, we'll want to see a list of all of the places visited, organized by country. That is, we'll get a list of the visited countries, presented in alphabetical order, and for each country, we'll see a list of visited cities, also in alphabetical order.  If the city was visited more than once, then we'll see a number next to its name.\n",
    "\n",
    "For example, this is how the interaction could look:\n",
    "    Tell me where you went: New York, USA\n",
    "    Tell me where you went: London, England\n",
    "    Tell me where you went: Shanghai, China\n",
    "    Tell me where you went: Chicago, USA\n",
    "    Tell me where you went: Beijing, China\n",
    "    Tell me where you went: Chicago, USA\n",
    "    Tell me where you went: Beijing, China\n",
    "    Tell me where you went: lalala\n",
    "    That's not a legal city, state combination\n",
    "    Tell me where you went: Boston, USA\n",
    "    Tell me where you went: <user presses \"enter\" here>\n",
    "\n",
    "    You visited:\n",
    "    China\n",
    "        Beijing (2)\n",
    "        Shanghai\n",
    "    England\n",
    "        London\n",
    "    USA\n",
    "        Boston\n",
    "        Chicago (2)\n",
    "        New York\n",
    "    \n",
    "You can discuss this at the forum, at https://forum.weeklypythonexercise.com/.  (If you have problems logging in, let me know.)\n",
    "\n",
    "The test is below.  Note that I'm already using some semi-advanced things in pytest for capturing standard input and standard output.  I've created a \"pytest\" topic in the forum, where we can discuss what I've done, and how I can improve my tests for you and future cohorts.\n",
    "\n",
    "I'll be back on Monday with a solution.\n",
    "\n",
    "'''"
   ]
  },
  {
   "cell_type": "code",
   "execution_count": 1,
   "metadata": {},
   "outputs": [],
   "source": [
    "visits = {}"
   ]
  },
  {
   "cell_type": "code",
   "execution_count": 2,
   "metadata": {},
   "outputs": [],
   "source": [
    "def collect_places():\n",
    "    global visits \n",
    "    \n",
    "    while True:\n",
    "        city_country = input(\"Tell me where you went: \")\n",
    "        \n",
    "        if not city_country:\n",
    "            break\n",
    "        elif \",\" not in city_country:\n",
    "            print(\"That's not a legal city, state combination\")\n",
    "            continue\n",
    "        else:\n",
    "            city, country = city_country.lower().split(\",\")\n",
    "            city = city.strip()\n",
    "            country = country.strip()\n",
    "            \n",
    "            if city in visits:\n",
    "                visits[city][1] = visits[city][1] + 1\n",
    "            else:\n",
    "                visits[city] = [country, 1]\n",
    "    "
   ]
  },
  {
   "cell_type": "code",
   "execution_count": 5,
   "metadata": {},
   "outputs": [
    {
     "name": "stdout",
     "output_type": "stream",
     "text": [
      "Tell me where you went: \n"
     ]
    }
   ],
   "source": [
    "collect_places()"
   ]
  },
  {
   "cell_type": "code",
   "execution_count": 6,
   "metadata": {},
   "outputs": [
    {
     "data": {
      "text/plain": [
       "{'new york': ['usa', 1],\n",
       " 'london': ['england', 1],\n",
       " 'shanghai': ['china', 1],\n",
       " 'chicago': ['usa', 2],\n",
       " 'beijing': ['china', 2],\n",
       " 'boston': ['usa', 1]}"
      ]
     },
     "execution_count": 6,
     "metadata": {},
     "output_type": "execute_result"
    }
   ],
   "source": [
    "visits"
   ]
  },
  {
   "cell_type": "code",
   "execution_count": 31,
   "metadata": {},
   "outputs": [],
   "source": [
    "a = \" dada\""
   ]
  },
  {
   "cell_type": "code",
   "execution_count": 32,
   "metadata": {},
   "outputs": [
    {
     "data": {
      "text/plain": [
       "'dada'"
      ]
     },
     "execution_count": 32,
     "metadata": {},
     "output_type": "execute_result"
    }
   ],
   "source": [
    "a.strip()"
   ]
  },
  {
   "cell_type": "code",
   "execution_count": 33,
   "metadata": {},
   "outputs": [
    {
     "data": {
      "text/plain": [
       "' dada'"
      ]
     },
     "execution_count": 33,
     "metadata": {},
     "output_type": "execute_result"
    }
   ],
   "source": [
    "a"
   ]
  },
  {
   "cell_type": "code",
   "execution_count": 7,
   "metadata": {},
   "outputs": [],
   "source": [
    "def display_places():\n",
    "    global visits\n",
    "    \n",
    "    pass"
   ]
  },
  {
   "cell_type": "code",
   "execution_count": 10,
   "metadata": {},
   "outputs": [
    {
     "data": {
      "text/plain": [
       "dict_keys(['new york', 'london', 'shanghai', 'chicago', 'beijing', 'boston'])"
      ]
     },
     "execution_count": 10,
     "metadata": {},
     "output_type": "execute_result"
    }
   ],
   "source": [
    "visits.keys()"
   ]
  },
  {
   "cell_type": "code",
   "execution_count": 23,
   "metadata": {},
   "outputs": [],
   "source": [
    "visits = {}\n",
    "def collect_places2():\n",
    "    global visits \n",
    "    \n",
    "    while True:\n",
    "        city_country = input(\"Tell me where you went: \")\n",
    "        \n",
    "        if not city_country:\n",
    "            break\n",
    "        elif \",\" not in city_country:\n",
    "            print(\"That's not a legal city, state combination\")\n",
    "            continue\n",
    "        else:\n",
    "            city, country = city_country.lower().split(\",\")\n",
    "            city = city.strip()\n",
    "            country = country.strip()\n",
    "            \n",
    "            if country in visits:\n",
    "                if city in visits[country]:\n",
    "                    visits[country][city] += 1\n",
    "            \n",
    "                else:\n",
    "                    visits[country][city] = 1\n",
    "            else:\n",
    "                visits[country] = {city: 1}"
   ]
  },
  {
   "cell_type": "code",
   "execution_count": 24,
   "metadata": {},
   "outputs": [
    {
     "name": "stdout",
     "output_type": "stream",
     "text": [
      "Tell me where you went: New York, USA\n",
      "Tell me where you went: London, England\n",
      "Tell me where you went: Shanghai, China\n",
      "Tell me where you went: Chicago, USA\n",
      "Tell me where you went: Beijing, China\n",
      "Tell me where you went: Chicago, USA\n",
      "Tell me where you went: Beijing, China\n",
      "Tell me where you went: abc\n",
      "That's not a legal city, state combination\n",
      "Tell me where you went: Boston, USA\n",
      "Tell me where you went: \n"
     ]
    }
   ],
   "source": [
    "collect_places2()"
   ]
  },
  {
   "cell_type": "code",
   "execution_count": 25,
   "metadata": {},
   "outputs": [
    {
     "data": {
      "text/plain": [
       "{'usa': {'new york': 1, 'chicago': 2, 'boston': 1},\n",
       " 'england': {'london': 1},\n",
       " 'china': {'shanghai': 1, 'beijing': 2}}"
      ]
     },
     "execution_count": 25,
     "metadata": {},
     "output_type": "execute_result"
    }
   ],
   "source": [
    "visits"
   ]
  },
  {
   "cell_type": "code",
   "execution_count": 41,
   "metadata": {},
   "outputs": [],
   "source": [
    "countries = sorted(list(visits.keys()))\n"
   ]
  },
  {
   "cell_type": "code",
   "execution_count": 42,
   "metadata": {},
   "outputs": [
    {
     "data": {
      "text/plain": [
       "['china', 'england', 'usa']"
      ]
     },
     "execution_count": 42,
     "metadata": {},
     "output_type": "execute_result"
    }
   ],
   "source": [
    "countries"
   ]
  },
  {
   "cell_type": "code",
   "execution_count": 75,
   "metadata": {},
   "outputs": [],
   "source": [
    "def display_places():\n",
    "    global visits\n",
    "\n",
    "    for country in sorted(visits):\n",
    "        print(country)\n",
    "        for city in sorted(visits[country]):\n",
    "            if visits[country][city] == 1:\n",
    "                print(\"\\t\" + city)\n",
    "            else:\n",
    "                print(\"\\t\" + city + \" ({})\".format(visits[country][city]))\n",
    "        "
   ]
  },
  {
   "cell_type": "code",
   "execution_count": 76,
   "metadata": {},
   "outputs": [
    {
     "name": "stdout",
     "output_type": "stream",
     "text": [
      "china\n",
      "\tbeijing(2)\n",
      "\tshanghai\n",
      "england\n",
      "\tlondon\n",
      "usa\n",
      "\tboston\n",
      "\tchicago(2)\n",
      "\tnew york\n"
     ]
    }
   ],
   "source": [
    "display_places()"
   ]
  },
  {
   "cell_type": "code",
   "execution_count": 66,
   "metadata": {},
   "outputs": [
    {
     "data": {
      "text/plain": [
       "['china', 'england', 'usa']"
      ]
     },
     "execution_count": 66,
     "metadata": {},
     "output_type": "execute_result"
    }
   ],
   "source": [
    "sorted(visits)"
   ]
  },
  {
   "cell_type": "code",
   "execution_count": null,
   "metadata": {},
   "outputs": [],
   "source": []
  }
 ],
 "metadata": {
  "kernelspec": {
   "display_name": "Python 3",
   "language": "python",
   "name": "python3"
  },
  "language_info": {
   "codemirror_mode": {
    "name": "ipython",
    "version": 3
   },
   "file_extension": ".py",
   "mimetype": "text/x-python",
   "name": "python",
   "nbconvert_exporter": "python",
   "pygments_lexer": "ipython3",
   "version": "3.7.0"
  }
 },
 "nbformat": 4,
 "nbformat_minor": 2
}
